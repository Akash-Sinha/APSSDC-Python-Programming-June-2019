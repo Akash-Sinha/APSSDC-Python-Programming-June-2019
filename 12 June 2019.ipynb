{
 "cells": [
  {
   "cell_type": "markdown",
   "metadata": {},
   "source": [
    "# Problem Solving and Programming\n",
    "\n",
    "#### Date 12 June 2019\n",
    "\n",
    "#### Day Objectives\n",
    "- String Slicing\n",
    "- Functions in Python\n",
    "- Basic Problems related to conditional statements using functions\n",
    "- Iteration in Python\n",
    "- Problem set for practice"
   ]
  },
  {
   "cell_type": "code",
   "execution_count": null,
   "metadata": {},
   "outputs": [],
   "source": []
  },
  {
   "cell_type": "markdown",
   "metadata": {},
   "source": [
    "### String Slicing"
   ]
  },
  {
   "cell_type": "code",
   "execution_count": 28,
   "metadata": {},
   "outputs": [
    {
     "data": {
      "text/plain": [
       "'nohtyP'"
      ]
     },
     "execution_count": 28,
     "metadata": {},
     "output_type": "execute_result"
    }
   ],
   "source": [
    "s1 = \"Python\"\n",
    "\n",
    "s1[0] # Accessing the first character in a string \n",
    "s1[1] # Accessing the second character in a string\n",
    "s1[len(s1)-1] # Accessing the last character in a string\n",
    "\n",
    "s1[-1] # Another way of accesing the last character\n",
    "\n",
    "s1[-2] # Accessing the penultimate character of a string\n",
    "\n",
    "s1[0:2] # Accessing the first two characters in a string\n",
    "\n",
    "s1[-2:] # Accessing the last two charcters in a string\n",
    "\n",
    "s1[4:] # Accessing all characters 5th character to end of string\n",
    "\n",
    "\n",
    "s1[1:-1]# Accessing all characters except first and last character\n",
    "\n",
    "s1[len(s1)//2]# Accessing the middle character in an odd length string\n",
    "\n",
    "s1[-1::-1] # Reverse of a string\n",
    "\n",
    "s1[-1:-3:-1]#Accessing last two characters in reverse order\n",
    "\n",
    "s1[len(s1)//2:len(s1)//2-2:-1]# Reverse the middle two characters in an even length string\n",
    "\n",
    "# Accessing alternate characters in a string\n",
    "# \"Python\" -> \"Pto\"\n",
    "s1[::2]\n",
    "\n",
    "# Accessing alternate characters of a string in reverse order\n",
    "# \"Python\" -> \"nhy\"\n",
    "s1[::-2]"
   ]
  },
  {
   "cell_type": "code",
   "execution_count": null,
   "metadata": {},
   "outputs": [],
   "source": []
  },
  {
   "cell_type": "markdown",
   "metadata": {},
   "source": [
    "### Functions"
   ]
  },
  {
   "cell_type": "code",
   "execution_count": 30,
   "metadata": {},
   "outputs": [
    {
     "data": {
      "text/plain": [
       "'nohtyP'"
      ]
     },
     "execution_count": 30,
     "metadata": {},
     "output_type": "execute_result"
    }
   ],
   "source": [
    "#Function to reverse a string\n",
    "def reverseString(s):\n",
    "    return s[::-1]\n",
    "\n",
    "reverseString(\"Python\")"
   ]
  },
  {
   "cell_type": "code",
   "execution_count": 37,
   "metadata": {},
   "outputs": [
    {
     "data": {
      "text/plain": [
       "False"
      ]
     },
     "execution_count": 37,
     "metadata": {},
     "output_type": "execute_result"
    }
   ],
   "source": [
    "#Function to check if a string is a Palindrome\n",
    "def palindrome(s):\n",
    "    if s == s[::-1]:\n",
    "        return True\n",
    "    else:\n",
    "        return False\n",
    "    \n",
    "palindrome(\"abc\")"
   ]
  },
  {
   "cell_type": "code",
   "execution_count": 39,
   "metadata": {},
   "outputs": [
    {
     "data": {
      "text/plain": [
       "True"
      ]
     },
     "execution_count": 39,
     "metadata": {},
     "output_type": "execute_result"
    }
   ],
   "source": [
    "#Function to check if a given year is a leap year\n",
    "def isLeapYear(year):\n",
    "    if year % 400 == 0 or (year % 100 != 0 and year % 4 == 0):\n",
    "        return True\n",
    "    return False\n",
    "\n",
    "isLeapYear(2020)\n"
   ]
  },
  {
   "cell_type": "code",
   "execution_count": 40,
   "metadata": {},
   "outputs": [
    {
     "data": {
      "text/plain": [
       "6"
      ]
     },
     "execution_count": 40,
     "metadata": {},
     "output_type": "execute_result"
    }
   ],
   "source": [
    "# Function to count the number of digits in a given number\n",
    "def countDigits(n):\n",
    "    return len(str(n))\n",
    "\n",
    "countDigits(134546)"
   ]
  },
  {
   "cell_type": "code",
   "execution_count": 41,
   "metadata": {},
   "outputs": [
    {
     "data": {
      "text/plain": [
       "234"
      ]
     },
     "execution_count": 41,
     "metadata": {},
     "output_type": "execute_result"
    }
   ],
   "source": [
    "# Function to identify the greatest of 4 numbers\n",
    "\n",
    "def greatest4(n1, n2, n3, n4):\n",
    "    if n1 > n2 and n1 > n3 and n1 > n4:\n",
    "        return n1\n",
    "    elif n2 > n3 and n2 > n4:\n",
    "        return n2\n",
    "    elif n3 > n4:\n",
    "        return n3\n",
    "    return n4\n",
    "\n",
    "greatest4(1,234, 123, 34)\n",
    "    "
   ]
  },
  {
   "cell_type": "code",
   "execution_count": null,
   "metadata": {},
   "outputs": [],
   "source": []
  },
  {
   "cell_type": "markdown",
   "metadata": {},
   "source": [
    "### Iteration\n",
    "\n",
    "- for\n",
    "- while"
   ]
  },
  {
   "cell_type": "code",
   "execution_count": 44,
   "metadata": {},
   "outputs": [
    {
     "name": "stdout",
     "output_type": "stream",
     "text": [
      "1 2 3 4 5 6 7 8 9 10 11 12 13 14 15 16 17 18 19 20 21 22 23 24 25 26 27 28 29 30 \n",
      "1 2 3 4 5 6 7 8 9 10 \n"
     ]
    }
   ],
   "source": [
    "# Function to print n natural numbers\n",
    "\n",
    "def printNNaturalNumbers(n):\n",
    "    for counter in range(1, n+1):\n",
    "        print(counter, end=\" \")\n",
    "    print()\n",
    "    return\n",
    "\n",
    "printNNaturalNumbers(30)\n",
    "printNNaturalNumbers(10)\n"
   ]
  },
  {
   "cell_type": "code",
   "execution_count": 46,
   "metadata": {},
   "outputs": [
    {
     "name": "stdout",
     "output_type": "stream",
     "text": [
      "1 2 3 4 5 6 7 8 9 "
     ]
    }
   ],
   "source": [
    "# Function to print N Natural numbers using a while loop\n",
    "\n",
    "def nNaturalNumbers(n):\n",
    "    counter = 1\n",
    "    while counter <= n:\n",
    "        print(counter, end = \" \")\n",
    "        counter = counter + 1\n",
    "    return\n",
    "\n",
    "\n",
    "nNaturalNumbers(9)"
   ]
  },
  {
   "cell_type": "code",
   "execution_count": null,
   "metadata": {},
   "outputs": [],
   "source": [
    "# Function to print all numbers divisible by 6\n",
    "# and not a factor of 100 in a given range(lb, ub) inclusive\n"
   ]
  },
  {
   "cell_type": "code",
   "execution_count": null,
   "metadata": {},
   "outputs": [],
   "source": [
    "# Function to find the average of cubes of all even numbers\n",
    "# in a given range(lb, ub) inclusive\n"
   ]
  },
  {
   "cell_type": "code",
   "execution_count": null,
   "metadata": {},
   "outputs": [],
   "source": [
    "# Function to generate the list of factors for a given number\n",
    "# 12 -> 1 2 3 4 6 12\n"
   ]
  },
  {
   "cell_type": "code",
   "execution_count": null,
   "metadata": {},
   "outputs": [],
   "source": [
    "# Function to calculate the factorial of a given number\n"
   ]
  },
  {
   "cell_type": "code",
   "execution_count": null,
   "metadata": {},
   "outputs": [],
   "source": [
    "# Function to check if a given number is Prime\n"
   ]
  },
  {
   "cell_type": "code",
   "execution_count": null,
   "metadata": {},
   "outputs": [],
   "source": [
    "# Function to calculate the average first N Prime numbers\n"
   ]
  },
  {
   "cell_type": "code",
   "execution_count": null,
   "metadata": {},
   "outputs": [],
   "source": [
    "# Function to generate all Perfect numbers in a given range"
   ]
  }
 ],
 "metadata": {
  "kernelspec": {
   "display_name": "Python 3",
   "language": "python",
   "name": "python3"
  },
  "language_info": {
   "codemirror_mode": {
    "name": "ipython",
    "version": 3
   },
   "file_extension": ".py",
   "mimetype": "text/x-python",
   "name": "python",
   "nbconvert_exporter": "python",
   "pygments_lexer": "ipython3",
   "version": "3.6.5"
  }
 },
 "nbformat": 4,
 "nbformat_minor": 2
}
